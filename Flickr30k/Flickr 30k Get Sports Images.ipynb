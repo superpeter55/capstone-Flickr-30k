{
 "cells": [
  {
   "cell_type": "code",
   "execution_count": 1,
   "id": "c853d4aa",
   "metadata": {},
   "outputs": [],
   "source": [
    "import pandas as pd\n",
    "import shutil\n",
    "from IPython.display import Image\n",
    "from matplotlib import pyplot as plt\n",
    "import matplotlib.image as mpimg"
   ]
  },
  {
   "cell_type": "markdown",
   "id": "7ce6700c",
   "metadata": {},
   "source": [
    "# Subset Flickr 30k Into Sports"
   ]
  },
  {
   "cell_type": "code",
   "execution_count": 2,
   "id": "d8aa4677",
   "metadata": {},
   "outputs": [],
   "source": [
    "captions = pd.read_csv('results.csv',header = 0, sep = '|')"
   ]
  },
  {
   "cell_type": "code",
   "execution_count": 3,
   "id": "af8ade35",
   "metadata": {},
   "outputs": [
    {
     "data": {
      "text/html": [
       "<div>\n",
       "<style scoped>\n",
       "    .dataframe tbody tr th:only-of-type {\n",
       "        vertical-align: middle;\n",
       "    }\n",
       "\n",
       "    .dataframe tbody tr th {\n",
       "        vertical-align: top;\n",
       "    }\n",
       "\n",
       "    .dataframe thead th {\n",
       "        text-align: right;\n",
       "    }\n",
       "</style>\n",
       "<table border=\"1\" class=\"dataframe\">\n",
       "  <thead>\n",
       "    <tr style=\"text-align: right;\">\n",
       "      <th></th>\n",
       "      <th>image_name</th>\n",
       "      <th>comment_number</th>\n",
       "      <th>comment</th>\n",
       "    </tr>\n",
       "  </thead>\n",
       "  <tbody>\n",
       "    <tr>\n",
       "      <th>0</th>\n",
       "      <td>1000092795.jpg</td>\n",
       "      <td>0</td>\n",
       "      <td>Two young guys with shaggy hair look at their...</td>\n",
       "    </tr>\n",
       "    <tr>\n",
       "      <th>1</th>\n",
       "      <td>1000092795.jpg</td>\n",
       "      <td>1</td>\n",
       "      <td>Two young , White males are outside near many...</td>\n",
       "    </tr>\n",
       "    <tr>\n",
       "      <th>2</th>\n",
       "      <td>1000092795.jpg</td>\n",
       "      <td>2</td>\n",
       "      <td>Two men in green shirts are standing in a yard .</td>\n",
       "    </tr>\n",
       "    <tr>\n",
       "      <th>3</th>\n",
       "      <td>1000092795.jpg</td>\n",
       "      <td>3</td>\n",
       "      <td>A man in a blue shirt standing in a garden .</td>\n",
       "    </tr>\n",
       "    <tr>\n",
       "      <th>4</th>\n",
       "      <td>1000092795.jpg</td>\n",
       "      <td>4</td>\n",
       "      <td>Two friends enjoy time spent together .</td>\n",
       "    </tr>\n",
       "    <tr>\n",
       "      <th>5</th>\n",
       "      <td>10002456.jpg</td>\n",
       "      <td>0</td>\n",
       "      <td>Several men in hard hats are operating a gian...</td>\n",
       "    </tr>\n",
       "    <tr>\n",
       "      <th>6</th>\n",
       "      <td>10002456.jpg</td>\n",
       "      <td>1</td>\n",
       "      <td>Workers look down from up above on a piece of...</td>\n",
       "    </tr>\n",
       "    <tr>\n",
       "      <th>7</th>\n",
       "      <td>10002456.jpg</td>\n",
       "      <td>2</td>\n",
       "      <td>Two men working on a machine wearing hard hats .</td>\n",
       "    </tr>\n",
       "    <tr>\n",
       "      <th>8</th>\n",
       "      <td>10002456.jpg</td>\n",
       "      <td>3</td>\n",
       "      <td>Four men on top of a tall structure .</td>\n",
       "    </tr>\n",
       "    <tr>\n",
       "      <th>9</th>\n",
       "      <td>10002456.jpg</td>\n",
       "      <td>4</td>\n",
       "      <td>Three men on a large rig .</td>\n",
       "    </tr>\n",
       "  </tbody>\n",
       "</table>\n",
       "</div>"
      ],
      "text/plain": [
       "       image_name  comment_number  \\\n",
       "0  1000092795.jpg               0   \n",
       "1  1000092795.jpg               1   \n",
       "2  1000092795.jpg               2   \n",
       "3  1000092795.jpg               3   \n",
       "4  1000092795.jpg               4   \n",
       "5    10002456.jpg               0   \n",
       "6    10002456.jpg               1   \n",
       "7    10002456.jpg               2   \n",
       "8    10002456.jpg               3   \n",
       "9    10002456.jpg               4   \n",
       "\n",
       "                                             comment  \n",
       "0   Two young guys with shaggy hair look at their...  \n",
       "1   Two young , White males are outside near many...  \n",
       "2   Two men in green shirts are standing in a yard .  \n",
       "3       A man in a blue shirt standing in a garden .  \n",
       "4            Two friends enjoy time spent together .  \n",
       "5   Several men in hard hats are operating a gian...  \n",
       "6   Workers look down from up above on a piece of...  \n",
       "7   Two men working on a machine wearing hard hats .  \n",
       "8              Four men on top of a tall structure .  \n",
       "9                         Three men on a large rig .  "
      ]
     },
     "execution_count": 3,
     "metadata": {},
     "output_type": "execute_result"
    }
   ],
   "source": [
    "captions.head(10)"
   ]
  },
  {
   "cell_type": "code",
   "execution_count": 4,
   "id": "46bcba2e",
   "metadata": {},
   "outputs": [],
   "source": [
    "# Defining list of keywords\n",
    "keywords = [\n",
    "    #' sport ',\n",
    "    'soccer', \n",
    "    'hockey', \n",
    "    'basketball', \n",
    "    'football', \n",
    "    'baseball player', \n",
    "    'tennis', \n",
    "    'golf', \n",
    "    'rugby',\n",
    "    'volleyball',\n",
    "    'badminton',\n",
    "    'skateboard',\n",
    "    'lacrosse',\n",
    "    'bowling',\n",
    "    'snowboard',\n",
    "    'skiing'\n",
    "]\n",
    "\n",
    "# words to exclude\n",
    "exclude_words = ['dog']\n",
    "\n",
    "# images to exclude upon visual inspection\n",
    "exclude_img = [\n",
    "    '135911244.jpg',\n",
    "    '4876356155.jpg',\n",
    "    '523327429.jpg',\n",
    "    '3157744152.jpg',\n",
    "    '6827875949.jpg',\n",
    "    '3608661756.jpg',\n",
    "    '2237256401.jpg',\n",
    "    '1891331926.jpg',\n",
    "    '2101741007.jpg',\n",
    "    '177591612.jpg',\n",
    "    '96399948.jpg',\n",
    "    '6206358780.jpg',\n",
    "    '2541583449.jpg',\n",
    "    '533601247.jpg',\n",
    "    '3118739263.jpg',\n",
    "    '2881685775.jpg',\n",
    "    '435908408.jpg',\n",
    "    '4806601649.jpg',\n",
    "    '4692101430.jpg',\n",
    "    '460195312.jpg',\n",
    "    '4525922214.jpg',\n",
    "    '4785970716.jpg',\n",
    "    '4524227478.jpg',\n",
    "    '3457455611.jpg',\n",
    "    '3188203103.jpg',\n",
    "    '3627216820.jpg',\n",
    "    '4645332265.jpg',\n",
    "    '4923916404.jpg',\n",
    "    '1605250088.jpg',\n",
    "    '152500619.jpg',\n",
    "    '3215589470.jpg',\n",
    "    '3428038648.jpg',\n",
    "    '3289433994.jpg',\n",
    "    '3564356990.jpg',\n",
    "    '2559260825.jpg',\n",
    "    '286459527.jpg',\n",
    "    '3030823649.jpg',\n",
    "    '4970971349.jpg',\n",
    "    '4575288615.jpg',\n",
    "    '3029928396.jpg',\n",
    "    '224702242.jpg',\n",
    "    '2839532455.jpg',\n",
    "    '2831846986.jpg',\n",
    "    '3780240908.jpg',\n",
    "    '4959432218.jpg',\n",
    "    '3376898612.jpg',\n",
    "    '687019615.jpg',\n",
    "    '2540884723.jpg',\n",
    "    '2057282116.jpg',\n",
    "    '412813270.jpg',\n",
    "    '4947072825.jpg',\n",
    "    '4844409798.jpg',\n",
    "    '4788507034.jpg',\n",
    "    '4851939948.jpg',\n",
    "    '2342288990.jpg',\n",
    "    '2050742372.jpg',\n",
    "    '4803925182.jpg',\n",
    "    '996089206.jpg',\n",
    "    '4501347788.jpg',\n",
    "    '2641288004.jpg',\n",
    "    '2586695332.jpg',\n",
    "    '346950049.jpg',\n",
    "    '4468307489.jpg',\n",
    "    '2299427360.jpg',\n",
    "    '6317293855.jpg',\n",
    "    '2320125735.jpg',\n",
    "    '481888930.jpg',\n",
    "    '3684680947.jpg',\n",
    "    '2892844237.jpg',\n",
    "    '2937713493.jpg',\n",
    "    '4439145639.jpg',\n",
    "    '490390951.jpg',\n",
    "    '3091754891.jpg',\n",
    "    '455709770.jpg',\n",
    "    '3670987768.jpg',\n",
    "    '3242354561.jpg',\n",
    "    '403523132.jpg',\n",
    "    '4131034420.jpg',\n",
    "    '7632424360.jpg',\n",
    "    '3576387257.jpg',\n",
    "    '2800934095.jpg',\n",
    "    '2439384468.jpg',\n",
    "    '3446122073.jpg',\n",
    "    '1512068441.jpg',\n",
    "    '3496028495.jpg',\n",
    "    '2199793371.jpg',\n",
    "    '3546027589.jpg',\n",
    "    '4611068200.jpg',\n",
    "    '93270842.jpg',\n",
    "    '476919777.jpg',\n",
    "    '4614873969.jpg',\n",
    "    '4937802230.jpg',\n",
    "    '4691117837.jpg',\n",
    "    '4970739809.jpg',\n",
    "    '3429115635.jpg',\n",
    "    '2771105620.jpg',\n",
    "    '4341820422.jpg'\n",
    "          ]"
   ]
  },
  {
   "cell_type": "code",
   "execution_count": 5,
   "id": "9e085d5b",
   "metadata": {},
   "outputs": [],
   "source": [
    "def find_images_from_keywords(keywords, exclude_img, exclude_words):\n",
    "    \"\"\"Takes keywords and finds images whose captions contain that keyword\"\"\"\n",
    "    images = []\n",
    "    comments = captions[' comment']\n",
    "    all_images = captions['image_name']\n",
    "    for i, comment in enumerate(comments):\n",
    "        comment = str(comment).lower()\n",
    "        ind = 0\n",
    "        for word in exclude_words:\n",
    "            if word in comment:\n",
    "                ind = 1\n",
    "        if ind == 1:\n",
    "            continue\n",
    "        for word in keywords:\n",
    "            if word in comment:\n",
    "                if all_images[i] in exclude_img:\n",
    "                    continue\n",
    "                images.append(all_images[i])\n",
    "                \n",
    "    return list(set(images))"
   ]
  },
  {
   "cell_type": "code",
   "execution_count": 6,
   "id": "2c9aef28",
   "metadata": {},
   "outputs": [],
   "source": [
    "images = find_images_from_keywords(keywords, exclude_img, exclude_words)"
   ]
  },
  {
   "cell_type": "code",
   "execution_count": 7,
   "id": "ad158930",
   "metadata": {},
   "outputs": [
    {
     "data": {
      "text/plain": [
       "2449"
      ]
     },
     "execution_count": 7,
     "metadata": {},
     "output_type": "execute_result"
    }
   ],
   "source": [
    "len(images)"
   ]
  },
  {
   "cell_type": "code",
   "execution_count": 8,
   "id": "6928c786",
   "metadata": {},
   "outputs": [],
   "source": [
    "def display_images(images):\n",
    "    for image in images:\n",
    "        directory = 'flickr30k_images/' + image\n",
    "        im = mpimg.imread(directory)\n",
    "        plt.figure()\n",
    "        plt.imshow(im)\n",
    "        subset = captions[captions['image_name'] == image]\n",
    "        s = image\n",
    "        for c in subset[' comment']:\n",
    "            s = s + \"\\n\" + c\n",
    "        plt.title(s)"
   ]
  },
  {
   "cell_type": "code",
   "execution_count": 9,
   "id": "fd410d8a",
   "metadata": {},
   "outputs": [],
   "source": [
    "#display_images(images)"
   ]
  },
  {
   "cell_type": "markdown",
   "id": "ae27f747",
   "metadata": {},
   "source": [
    "# Parsing Sentences and Annotations From Flickr 30k Entities Dataset"
   ]
  },
  {
   "cell_type": "code",
   "execution_count": 2,
   "id": "c86e5541",
   "metadata": {},
   "outputs": [],
   "source": [
    "import xml.etree.ElementTree as ET\n",
    "\n",
    "def get_sentence_data(fn):\n",
    "    \"\"\"\n",
    "    Parses a sentence file from the Flickr30K Entities dataset\n",
    "    input:\n",
    "      fn - full file path to the sentence file to parse\n",
    "    \n",
    "    output:\n",
    "      a list of dictionaries for each sentence with the following fields:\n",
    "          sentence - the original sentence\n",
    "          phrases - a list of dictionaries for each phrase with the\n",
    "                    following fields:\n",
    "                      phrase - the text of the annotated phrase\n",
    "                      first_word_index - the position of the first word of\n",
    "                                         the phrase in the sentence\n",
    "                      phrase_id - an identifier for this phrase\n",
    "                      phrase_type - a list of the coarse categories this \n",
    "                                    phrase belongs to\n",
    "    \"\"\"\n",
    "    with open(fn, 'r') as f:\n",
    "        sentences = f.read().split('\\n')\n",
    "\n",
    "    annotations = []\n",
    "    for sentence in sentences:\n",
    "        if not sentence:\n",
    "            continue\n",
    "\n",
    "        first_word = []\n",
    "        phrases = []\n",
    "        phrase_id = []\n",
    "        phrase_type = []\n",
    "        words = []\n",
    "        current_phrase = []\n",
    "        add_to_phrase = False\n",
    "        for token in sentence.split():\n",
    "            if add_to_phrase:\n",
    "                if token[-1] == ']':\n",
    "                    add_to_phrase = False\n",
    "                    token = token[:-1]\n",
    "                    current_phrase.append(token)\n",
    "                    phrases.append(' '.join(current_phrase))\n",
    "                    current_phrase = []\n",
    "                else:\n",
    "                    current_phrase.append(token)\n",
    "\n",
    "                words.append(token)\n",
    "            else:\n",
    "                if token[0] == '[':\n",
    "                    add_to_phrase = True\n",
    "                    first_word.append(len(words))\n",
    "                    parts = token.split('/')\n",
    "                    phrase_id.append(parts[1][3:])\n",
    "                    phrase_type.append(parts[2:])\n",
    "                else:\n",
    "                    words.append(token)\n",
    "\n",
    "        sentence_data = {'sentence' : ' '.join(words), 'phrases' : []}\n",
    "        for index, phrase, p_id, p_type in zip(first_word, phrases, phrase_id, phrase_type):\n",
    "            sentence_data['phrases'].append({'first_word_index' : index,\n",
    "                                             'phrase' : phrase,\n",
    "                                             'phrase_id' : p_id,\n",
    "                                             'phrase_type' : p_type})\n",
    "\n",
    "        annotations.append(sentence_data)\n",
    "\n",
    "    return annotations\n",
    "\n",
    "def get_annotations(fn):\n",
    "    \"\"\"\n",
    "    Parses the xml files in the Flickr30K Entities dataset\n",
    "    input:\n",
    "      fn - full file path to the annotations file to parse\n",
    "    output:\n",
    "      dictionary with the following fields:\n",
    "          scene - list of identifiers which were annotated as\n",
    "                  pertaining to the whole scene\n",
    "          nobox - list of identifiers which were annotated as\n",
    "                  not being visible in the image\n",
    "          boxes - a dictionary where the fields are identifiers\n",
    "                  and the values are its list of boxes in the \n",
    "                  [xmin ymin xmax ymax] format\n",
    "    \"\"\"\n",
    "    tree = ET.parse(fn)\n",
    "    root = tree.getroot()\n",
    "    size_container = root.findall('size')[0]\n",
    "    anno_info = {'boxes' : {}, 'scene' : [], 'nobox' : []}\n",
    "    for size_element in size_container:\n",
    "        anno_info[size_element.tag] = int(size_element.text)\n",
    "\n",
    "    for object_container in root.findall('object'):\n",
    "        for names in object_container.findall('name'):\n",
    "            box_id = names.text\n",
    "            box_container = object_container.findall('bndbox')\n",
    "            if len(box_container) > 0:\n",
    "                if box_id not in anno_info['boxes']:\n",
    "                    anno_info['boxes'][box_id] = []\n",
    "                xmin = int(box_container[0].findall('xmin')[0].text) - 1\n",
    "                ymin = int(box_container[0].findall('ymin')[0].text) - 1\n",
    "                xmax = int(box_container[0].findall('xmax')[0].text) - 1\n",
    "                ymax = int(box_container[0].findall('ymax')[0].text) - 1\n",
    "                anno_info['boxes'][box_id].append([xmin, ymin, xmax, ymax])\n",
    "            else:\n",
    "                nobndbox = int(object_container.findall('nobndbox')[0].text)\n",
    "                if nobndbox > 0:\n",
    "                    anno_info['nobox'].append(box_id)\n",
    "\n",
    "                scene = int(object_container.findall('scene')[0].text)\n",
    "                if scene > 0:\n",
    "                    anno_info['scene'].append(box_id)\n",
    "\n",
    "    return anno_info"
   ]
  },
  {
   "cell_type": "code",
   "execution_count": 10,
   "id": "1d11ba0a",
   "metadata": {},
   "outputs": [
    {
     "data": {
      "text/plain": [
       "'1000092795'"
      ]
     },
     "execution_count": 10,
     "metadata": {},
     "output_type": "execute_result"
    }
   ],
   "source": [
    "test_img = captions['image_name'][0].split('.')[0]\n",
    "test_img"
   ]
  },
  {
   "cell_type": "code",
   "execution_count": 16,
   "id": "8e560985",
   "metadata": {},
   "outputs": [
    {
     "data": {
      "image/png": "[encoded data removed]",
      "text/plain": [
       "<Figure size 432x288 with 1 Axes>"
      ]
     },
     "metadata": {
      "needs_background": "light"
     },
     "output_type": "display_data"
    }
   ],
   "source": [
    "display_images([test_img + '.jpg'])"
   ]
  },
  {
   "cell_type": "code",
   "execution_count": 17,
   "id": "599b44ff",
   "metadata": {},
   "outputs": [
    {
     "data": {
      "text/plain": [
       "{'boxes': {'1': [[158, 124, 218, 334], [196, 109, 260, 372]],\n",
       "  '4': [[0, 219, 210, 472], [275, 214, 331, 336]],\n",
       "  '6': [[196, 109, 260, 372]],\n",
       "  '5': [[206, 143, 256, 243], [172, 155, 216, 235]],\n",
       "  '7': [[206, 143, 256, 243]],\n",
       "  '2': [[179, 124, 205, 155], [197, 113, 239, 145]],\n",
       "  '3': [[172, 183, 197, 202], [157, 197, 190, 224]]},\n",
       " 'scene': ['8', '9'],\n",
       " 'nobox': ['10'],\n",
       " 'width': 333,\n",
       " 'height': 500,\n",
       " 'depth': 3}"
      ]
     },
     "execution_count": 17,
     "metadata": {},
     "output_type": "execute_result"
    }
   ],
   "source": [
    "get_annotations('Annotations/' + test_img + '.xml')"
   ]
  },
  {
   "cell_type": "code",
   "execution_count": 18,
   "id": "86099324",
   "metadata": {},
   "outputs": [
    {
     "data": {
      "text/plain": [
       "[{'sentence': 'Two young guys with shaggy hair look at their hands while hanging out in the yard .',\n",
       "  'phrases': [{'first_word_index': 0,\n",
       "    'phrase': 'Two young guys',\n",
       "    'phrase_id': '1',\n",
       "    'phrase_type': ['people']},\n",
       "   {'first_word_index': 4,\n",
       "    'phrase': 'shaggy hair',\n",
       "    'phrase_id': '2',\n",
       "    'phrase_type': ['bodyparts']},\n",
       "   {'first_word_index': 8,\n",
       "    'phrase': 'their hands',\n",
       "    'phrase_id': '3',\n",
       "    'phrase_type': ['bodyparts']},\n",
       "   {'first_word_index': 14,\n",
       "    'phrase': 'the yard',\n",
       "    'phrase_id': '8',\n",
       "    'phrase_type': ['scene']}]},\n",
       " {'sentence': 'Two young , White males are outside near many bushes .',\n",
       "  'phrases': [{'first_word_index': 0,\n",
       "    'phrase': 'Two young , White males',\n",
       "    'phrase_id': '1',\n",
       "    'phrase_type': ['people']},\n",
       "   {'first_word_index': 8,\n",
       "    'phrase': 'many bushes',\n",
       "    'phrase_id': '4',\n",
       "    'phrase_type': ['scene']}]},\n",
       " {'sentence': 'Two men in green shirts are standing in a yard .',\n",
       "  'phrases': [{'first_word_index': 0,\n",
       "    'phrase': 'Two men',\n",
       "    'phrase_id': '1',\n",
       "    'phrase_type': ['people']},\n",
       "   {'first_word_index': 3,\n",
       "    'phrase': 'green shirts',\n",
       "    'phrase_id': '5',\n",
       "    'phrase_type': ['clothing']},\n",
       "   {'first_word_index': 8,\n",
       "    'phrase': 'a yard',\n",
       "    'phrase_id': '9',\n",
       "    'phrase_type': ['scene']}]},\n",
       " {'sentence': 'A man in a blue shirt standing in a garden .',\n",
       "  'phrases': [{'first_word_index': 0,\n",
       "    'phrase': 'A man',\n",
       "    'phrase_id': '6',\n",
       "    'phrase_type': ['people']},\n",
       "   {'first_word_index': 3,\n",
       "    'phrase': 'a blue shirt',\n",
       "    'phrase_id': '7',\n",
       "    'phrase_type': ['clothing']},\n",
       "   {'first_word_index': 8,\n",
       "    'phrase': 'a garden',\n",
       "    'phrase_id': '9',\n",
       "    'phrase_type': ['scene']}]},\n",
       " {'sentence': 'Two friends enjoy time spent together .',\n",
       "  'phrases': [{'first_word_index': 0,\n",
       "    'phrase': 'Two friends',\n",
       "    'phrase_id': '1',\n",
       "    'phrase_type': ['people']},\n",
       "   {'first_word_index': 3,\n",
       "    'phrase': 'time',\n",
       "    'phrase_id': '10',\n",
       "    'phrase_type': ['other']}]}]"
      ]
     },
     "execution_count": 18,
     "metadata": {},
     "output_type": "execute_result"
    }
   ],
   "source": [
    "get_sentence_data('Sentences/' + test_img + '.txt')"
   ]
  },
  {
   "cell_type": "markdown",
   "id": "22682205",
   "metadata": {},
   "source": [
    "# Saving sports subset"
   ]
  },
  {
   "cell_type": "code",
   "execution_count": 550,
   "id": "dc8e3de9",
   "metadata": {},
   "outputs": [],
   "source": [
    "# Saving csv of image names\n",
    "#captions[captions['image_name'] in images == True]"
   ]
  },
  {
   "cell_type": "code",
   "execution_count": 552,
   "id": "9a067be4",
   "metadata": {},
   "outputs": [],
   "source": [
    "df = pd.DataFrame()\n",
    "for im in images:\n",
    "    df_temp = captions[captions['image_name'] == im]\n",
    "    df = pd.concat([df, df_temp])"
   ]
  },
  {
   "cell_type": "code",
   "execution_count": 555,
   "id": "2d96672d",
   "metadata": {},
   "outputs": [
    {
     "data": {
      "text/html": [
       "<div>\n",
       "<style scoped>\n",
       "    .dataframe tbody tr th:only-of-type {\n",
       "        vertical-align: middle;\n",
       "    }\n",
       "\n",
       "    .dataframe tbody tr th {\n",
       "        vertical-align: top;\n",
       "    }\n",
       "\n",
       "    .dataframe thead th {\n",
       "        text-align: right;\n",
       "    }\n",
       "</style>\n",
       "<table border=\"1\" class=\"dataframe\">\n",
       "  <thead>\n",
       "    <tr style=\"text-align: right;\">\n",
       "      <th></th>\n",
       "      <th>image_name</th>\n",
       "      <th>comment_number</th>\n",
       "      <th>comment</th>\n",
       "    </tr>\n",
       "  </thead>\n",
       "  <tbody>\n",
       "    <tr>\n",
       "      <th>67645</th>\n",
       "      <td>3364787667.jpg</td>\n",
       "      <td>0</td>\n",
       "      <td>A girl in a khaki jacket sitting next to a gi...</td>\n",
       "    </tr>\n",
       "    <tr>\n",
       "      <th>67646</th>\n",
       "      <td>3364787667.jpg</td>\n",
       "      <td>1</td>\n",
       "      <td>Two women , in winter jackets and snow pants ...</td>\n",
       "    </tr>\n",
       "    <tr>\n",
       "      <th>67647</th>\n",
       "      <td>3364787667.jpg</td>\n",
       "      <td>2</td>\n",
       "      <td>Two female snowboarders , both wearing glasse...</td>\n",
       "    </tr>\n",
       "    <tr>\n",
       "      <th>67648</th>\n",
       "      <td>3364787667.jpg</td>\n",
       "      <td>3</td>\n",
       "      <td>Two women sitting on a ski lift , with mounta...</td>\n",
       "    </tr>\n",
       "    <tr>\n",
       "      <th>67649</th>\n",
       "      <td>3364787667.jpg</td>\n",
       "      <td>4</td>\n",
       "      <td>Two woman are smiling for the camera on a ski...</td>\n",
       "    </tr>\n",
       "  </tbody>\n",
       "</table>\n",
       "</div>"
      ],
      "text/plain": [
       "           image_name  comment_number  \\\n",
       "67645  3364787667.jpg               0   \n",
       "67646  3364787667.jpg               1   \n",
       "67647  3364787667.jpg               2   \n",
       "67648  3364787667.jpg               3   \n",
       "67649  3364787667.jpg               4   \n",
       "\n",
       "                                                 comment  \n",
       "67645   A girl in a khaki jacket sitting next to a gi...  \n",
       "67646   Two women , in winter jackets and snow pants ...  \n",
       "67647   Two female snowboarders , both wearing glasse...  \n",
       "67648   Two women sitting on a ski lift , with mounta...  \n",
       "67649   Two woman are smiling for the camera on a ski...  "
      ]
     },
     "execution_count": 555,
     "metadata": {},
     "output_type": "execute_result"
    }
   ],
   "source": [
    "df.head()"
   ]
  },
  {
   "cell_type": "code",
   "execution_count": 556,
   "id": "46a9c346",
   "metadata": {},
   "outputs": [],
   "source": [
    "df.to_csv('Sports Subset/sports_image_captions.csv')"
   ]
  },
  {
   "cell_type": "code",
   "execution_count": 561,
   "id": "02e43981",
   "metadata": {},
   "outputs": [],
   "source": [
    "# Copying sports images, sentence entities and annotation entities\n",
    "for im in images:\n",
    "    shutil.copyfile('flickr30k_images/'+im, 'Sports Subset/Images/' + im)\n",
    "    im = im.split('.')[0]\n",
    "    shutil.copyfile('Sentences/' + im + '.txt', 'Sports Subset/Sentences/' + im + '.txt')\n",
    "    shutil.copyfile('Annotations/' + im + '.xml', 'Sports Subset/Annotations/' + im + '.xml')"
   ]
  },
  {
   "cell_type": "code",
   "execution_count": 562,
   "id": "1d1332eb",
   "metadata": {},
   "outputs": [
    {
     "data": {
      "text/plain": [
       "97"
      ]
     },
     "execution_count": 562,
     "metadata": {},
     "output_type": "execute_result"
    }
   ],
   "source": [
    "len(exclude_img)"
   ]
  },
  {
   "cell_type": "code",
   "execution_count": null,
   "id": "bd193c1a",
   "metadata": {},
   "outputs": [],
   "source": []
  }
 ],
 "metadata": {
  "kernelspec": {
   "display_name": "Python 3 (ipykernel)",
   "language": "python",
   "name": "python3"
  },
  "language_info": {
   "codemirror_mode": {
    "name": "ipython",
    "version": 3
   },
   "file_extension": ".py",
   "mimetype": "text/x-python",
   "name": "python",
   "nbconvert_exporter": "python",
   "pygments_lexer": "ipython3",
   "version": "3.9.7"
  }
 },
 "nbformat": 4,
 "nbformat_minor": 5
}
